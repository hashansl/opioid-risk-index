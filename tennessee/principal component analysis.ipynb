{
 "cells": [
  {
   "cell_type": "markdown",
   "metadata": {},
   "source": [
    "### PCA on SVI 2020 data for Tennessee"
   ]
  },
  {
   "cell_type": "code",
   "execution_count": 1,
   "metadata": {},
   "outputs": [],
   "source": [
    "import pandas as pd\n",
    "import matplotlib.pyplot as plt\n",
    "import geopandas as gpd\n",
    "import numpy as np\n",
    "import itertools\n",
    "from itertools import combinations\n",
    "from scipy import spatial\n",
    "import pickle as pickle\n",
    "import gudhi\n",
    "from pylab import *\n",
    "from mpl_toolkits.mplot3d import Axes3D\n",
    "%matplotlib inline\n",
    "import seaborn as sns\n",
    "from sklearn.datasets import make_regression\n",
    "from sklearn.model_selection import train_test_split\n",
    "from sklearn.feature_selection import SelectKBest\n",
    "from sklearn.feature_selection import f_regression\n",
    "from matplotlib import pyplot\n",
    "import warnings\n",
    "\n",
    "# Ignore FutureWarnings\n",
    "warnings.simplefilter(action='ignore', category=FutureWarning)"
   ]
  },
  {
   "cell_type": "markdown",
   "metadata": {},
   "source": [
    "#### Import the dataset"
   ]
  },
  {
   "cell_type": "code",
   "execution_count": 3,
   "metadata": {},
   "outputs": [],
   "source": [
    "tnSviRaw = gpd.read_file('./data/processed data/SVI2020 TN counties with death rate/SVI2020_TN_counties_with_death_rate.shp')"
   ]
  },
  {
   "cell_type": "code",
   "execution_count": 4,
   "metadata": {},
   "outputs": [],
   "source": [
    "# reaname od_deaths_ column to deaths_rate\n",
    "tnSviRaw = tnSviRaw.rename(columns={'od_deaths_':'death_rate'})"
   ]
  },
  {
   "cell_type": "code",
   "execution_count": null,
   "metadata": {},
   "outputs": [],
   "source": []
  },
  {
   "cell_type": "markdown",
   "metadata": {},
   "source": [
    "##### Filtering the raw variables with overdose death rate"
   ]
  },
  {
   "cell_type": "code",
   "execution_count": 5,
   "metadata": {},
   "outputs": [],
   "source": [
    "selectedVariables = ['EP_POV150','EP_UNEMP','EP_HBURD','EP_NOHSDP','EP_UNINSUR','EP_AGE65','EP_AGE17','EP_DISABL','EP_SNGPNT','EP_LIMENG','EP_MINRTY','EP_MUNIT','EP_MOBILE','EP_CROWD','EP_NOVEH','EP_GROUPQ','death_rate']"
   ]
  },
  {
   "cell_type": "code",
   "execution_count": 6,
   "metadata": {},
   "outputs": [],
   "source": [
    "selectedVariablesWithoutY = ['EP_POV150','EP_UNEMP','EP_HBURD','EP_NOHSDP','EP_UNINSUR','EP_AGE65','EP_AGE17','EP_DISABL','EP_SNGPNT','EP_LIMENG','EP_MINRTY','EP_MUNIT','EP_MOBILE','EP_CROWD','EP_NOVEH','EP_GROUPQ']"
   ]
  },
  {
   "cell_type": "code",
   "execution_count": 7,
   "metadata": {},
   "outputs": [],
   "source": [
    "# filter metro_svi_deaths dataframe to include only the selected variables and od_deaths_per_1000\n",
    "tnSviMultipleVariablesDf = tnSviRaw[selectedVariables]"
   ]
  },
  {
   "cell_type": "code",
   "execution_count": 8,
   "metadata": {},
   "outputs": [
    {
     "data": {
      "text/html": [
       "<div>\n",
       "<style scoped>\n",
       "    .dataframe tbody tr th:only-of-type {\n",
       "        vertical-align: middle;\n",
       "    }\n",
       "\n",
       "    .dataframe tbody tr th {\n",
       "        vertical-align: top;\n",
       "    }\n",
       "\n",
       "    .dataframe thead th {\n",
       "        text-align: right;\n",
       "    }\n",
       "</style>\n",
       "<table border=\"1\" class=\"dataframe\">\n",
       "  <thead>\n",
       "    <tr style=\"text-align: right;\">\n",
       "      <th></th>\n",
       "      <th>EP_POV150</th>\n",
       "      <th>EP_UNEMP</th>\n",
       "      <th>EP_HBURD</th>\n",
       "      <th>EP_NOHSDP</th>\n",
       "      <th>EP_UNINSUR</th>\n",
       "      <th>EP_AGE65</th>\n",
       "      <th>EP_AGE17</th>\n",
       "      <th>EP_DISABL</th>\n",
       "      <th>EP_SNGPNT</th>\n",
       "      <th>EP_LIMENG</th>\n",
       "      <th>EP_MINRTY</th>\n",
       "      <th>EP_MUNIT</th>\n",
       "      <th>EP_MOBILE</th>\n",
       "      <th>EP_CROWD</th>\n",
       "      <th>EP_NOVEH</th>\n",
       "      <th>EP_GROUPQ</th>\n",
       "      <th>death_rate</th>\n",
       "    </tr>\n",
       "  </thead>\n",
       "  <tbody>\n",
       "    <tr>\n",
       "      <th>0</th>\n",
       "      <td>24.6</td>\n",
       "      <td>5.5</td>\n",
       "      <td>22.4</td>\n",
       "      <td>11.4</td>\n",
       "      <td>8.9</td>\n",
       "      <td>19.9</td>\n",
       "      <td>21.1</td>\n",
       "      <td>20.8</td>\n",
       "      <td>5.7</td>\n",
       "      <td>0.8</td>\n",
       "      <td>11.4</td>\n",
       "      <td>8.3</td>\n",
       "      <td>13.0</td>\n",
       "      <td>1.9</td>\n",
       "      <td>4.8</td>\n",
       "      <td>1.7</td>\n",
       "      <td>0.823389</td>\n",
       "    </tr>\n",
       "    <tr>\n",
       "      <th>1</th>\n",
       "      <td>24.6</td>\n",
       "      <td>4.4</td>\n",
       "      <td>24.7</td>\n",
       "      <td>16.5</td>\n",
       "      <td>11.3</td>\n",
       "      <td>14.9</td>\n",
       "      <td>25.5</td>\n",
       "      <td>15.0</td>\n",
       "      <td>7.5</td>\n",
       "      <td>2.6</td>\n",
       "      <td>23.6</td>\n",
       "      <td>2.4</td>\n",
       "      <td>13.6</td>\n",
       "      <td>3.1</td>\n",
       "      <td>3.9</td>\n",
       "      <td>1.1</td>\n",
       "      <td>0.326951</td>\n",
       "    </tr>\n",
       "    <tr>\n",
       "      <th>2</th>\n",
       "      <td>31.7</td>\n",
       "      <td>7.2</td>\n",
       "      <td>18.8</td>\n",
       "      <td>16.6</td>\n",
       "      <td>7.7</td>\n",
       "      <td>23.9</td>\n",
       "      <td>19.8</td>\n",
       "      <td>27.6</td>\n",
       "      <td>5.3</td>\n",
       "      <td>0.0</td>\n",
       "      <td>4.6</td>\n",
       "      <td>0.5</td>\n",
       "      <td>29.4</td>\n",
       "      <td>0.6</td>\n",
       "      <td>6.0</td>\n",
       "      <td>1.2</td>\n",
       "      <td>0.309924</td>\n",
       "    </tr>\n",
       "  </tbody>\n",
       "</table>\n",
       "</div>"
      ],
      "text/plain": [
       "   EP_POV150  EP_UNEMP  EP_HBURD  EP_NOHSDP  EP_UNINSUR  EP_AGE65  EP_AGE17  \\\n",
       "0       24.6       5.5      22.4       11.4         8.9      19.9      21.1   \n",
       "1       24.6       4.4      24.7       16.5        11.3      14.9      25.5   \n",
       "2       31.7       7.2      18.8       16.6         7.7      23.9      19.8   \n",
       "\n",
       "   EP_DISABL  EP_SNGPNT  EP_LIMENG  EP_MINRTY  EP_MUNIT  EP_MOBILE  EP_CROWD  \\\n",
       "0       20.8        5.7        0.8       11.4       8.3       13.0       1.9   \n",
       "1       15.0        7.5        2.6       23.6       2.4       13.6       3.1   \n",
       "2       27.6        5.3        0.0        4.6       0.5       29.4       0.6   \n",
       "\n",
       "   EP_NOVEH  EP_GROUPQ  death_rate  \n",
       "0       4.8        1.7    0.823389  \n",
       "1       3.9        1.1    0.326951  \n",
       "2       6.0        1.2    0.309924  "
      ]
     },
     "execution_count": 8,
     "metadata": {},
     "output_type": "execute_result"
    }
   ],
   "source": [
    "tnSviMultipleVariablesDf.head(3)"
   ]
  },
  {
   "cell_type": "markdown",
   "metadata": {},
   "source": [
    "#### Applying PCA"
   ]
  },
  {
   "cell_type": "code",
   "execution_count": 9,
   "metadata": {},
   "outputs": [],
   "source": [
    "import numpy as np\n",
    "import pandas as pd\n",
    "import matplotlib.pyplot as plt\n",
    "from sklearn.preprocessing import scale \n",
    "from sklearn import model_selection\n",
    "from sklearn.model_selection import RepeatedKFold\n",
    "from sklearn.model_selection import train_test_split\n",
    "from sklearn.decomposition import PCA\n",
    "from sklearn.linear_model import LinearRegression\n",
    "from sklearn.metrics import mean_squared_error\n",
    "from sklearn.preprocessing import StandardScaler\n"
   ]
  },
  {
   "cell_type": "code",
   "execution_count": 10,
   "metadata": {},
   "outputs": [],
   "source": [
    "#define predictor and response variables\n",
    "X = tnSviMultipleVariablesDf.drop('death_rate', axis=1)\n",
    "y = tnSviMultipleVariablesDf['death_rate']"
   ]
  },
  {
   "cell_type": "code",
   "execution_count": 11,
   "metadata": {},
   "outputs": [],
   "source": [
    "#define scaler\n",
    "scaler = StandardScaler()"
   ]
  },
  {
   "cell_type": "markdown",
   "metadata": {},
   "source": [
    "The standard score of a sample x is calculated as:\n",
    "\n",
    "z = (x - u) / s\n",
    "\n",
    "where u is the mean of the training samples or zero if with_mean=False, and s is the standard deviation of the training samples or one if with_std=False."
   ]
  },
  {
   "cell_type": "markdown",
   "metadata": {},
   "source": [
    "The fit method is used to compute the mean and standard deviation of the input data, which will be used for later scaling. It is essentially the process of computing the parameters needed for the transformation. \n",
    "\n",
    "When you call fit, the StandardScaler calculates the mean and standard deviation of each feature in the training data. These parameters are stored in the mean_ and scale_ attributes of the scaler object"
   ]
  },
  {
   "cell_type": "markdown",
   "metadata": {},
   "source": [
    "The fit_transform method not only computes the mean and standard deviation but also applies the transformation to the data. It centers and scales the data based on the computed mean and standard deviation.\n",
    "\n",
    "It returns the transformed data, and the original data is not modified. The fit_transform method is often used when you have a training dataset and you want to both compute the scaling parameters and apply the transformation to the data in a single step."
   ]
  },
  {
   "cell_type": "code",
   "execution_count": 12,
   "metadata": {},
   "outputs": [],
   "source": [
    "# scaled_X\n",
    "scaled_X = pd.DataFrame(scaler.fit_transform(X), columns=X.columns)\n"
   ]
  },
  {
   "cell_type": "code",
   "execution_count": 13,
   "metadata": {},
   "outputs": [
    {
     "data": {
      "text/html": [
       "<div>\n",
       "<style scoped>\n",
       "    .dataframe tbody tr th:only-of-type {\n",
       "        vertical-align: middle;\n",
       "    }\n",
       "\n",
       "    .dataframe tbody tr th {\n",
       "        vertical-align: top;\n",
       "    }\n",
       "\n",
       "    .dataframe thead th {\n",
       "        text-align: right;\n",
       "    }\n",
       "</style>\n",
       "<table border=\"1\" class=\"dataframe\">\n",
       "  <thead>\n",
       "    <tr style=\"text-align: right;\">\n",
       "      <th></th>\n",
       "      <th>EP_POV150</th>\n",
       "      <th>EP_UNEMP</th>\n",
       "      <th>EP_HBURD</th>\n",
       "      <th>EP_NOHSDP</th>\n",
       "      <th>EP_UNINSUR</th>\n",
       "      <th>EP_AGE65</th>\n",
       "      <th>EP_AGE17</th>\n",
       "      <th>EP_DISABL</th>\n",
       "      <th>EP_SNGPNT</th>\n",
       "      <th>EP_LIMENG</th>\n",
       "      <th>EP_MINRTY</th>\n",
       "      <th>EP_MUNIT</th>\n",
       "      <th>EP_MOBILE</th>\n",
       "      <th>EP_CROWD</th>\n",
       "      <th>EP_NOVEH</th>\n",
       "      <th>EP_GROUPQ</th>\n",
       "    </tr>\n",
       "  </thead>\n",
       "  <tbody>\n",
       "    <tr>\n",
       "      <th>0</th>\n",
       "      <td>-0.455134</td>\n",
       "      <td>-0.198361</td>\n",
       "      <td>0.272093</td>\n",
       "      <td>-0.992969</td>\n",
       "      <td>-0.544523</td>\n",
       "      <td>0.248244</td>\n",
       "      <td>-0.035947</td>\n",
       "      <td>0.374557</td>\n",
       "      <td>-0.187674</td>\n",
       "      <td>0.132865</td>\n",
       "      <td>-0.248504</td>\n",
       "      <td>1.454362</td>\n",
       "      <td>-0.494484</td>\n",
       "      <td>0.170549</td>\n",
       "      <td>-0.257790</td>\n",
       "      <td>-0.304397</td>\n",
       "    </tr>\n",
       "    <tr>\n",
       "      <th>1</th>\n",
       "      <td>-0.455134</td>\n",
       "      <td>-0.748196</td>\n",
       "      <td>0.926135</td>\n",
       "      <td>0.264463</td>\n",
       "      <td>0.557085</td>\n",
       "      <td>-1.236845</td>\n",
       "      <td>1.866071</td>\n",
       "      <td>-1.037077</td>\n",
       "      <td>0.778958</td>\n",
       "      <td>2.629564</td>\n",
       "      <td>0.795788</td>\n",
       "      <td>-0.156646</td>\n",
       "      <td>-0.417663</td>\n",
       "      <td>1.725960</td>\n",
       "      <td>-0.659999</td>\n",
       "      <td>-0.431788</td>\n",
       "    </tr>\n",
       "    <tr>\n",
       "      <th>2</th>\n",
       "      <td>0.718366</td>\n",
       "      <td>0.651383</td>\n",
       "      <td>-0.751624</td>\n",
       "      <td>0.289119</td>\n",
       "      <td>-1.095327</td>\n",
       "      <td>1.436316</td>\n",
       "      <td>-0.597907</td>\n",
       "      <td>2.029576</td>\n",
       "      <td>-0.402481</td>\n",
       "      <td>-0.976779</td>\n",
       "      <td>-0.830568</td>\n",
       "      <td>-0.675445</td>\n",
       "      <td>1.605287</td>\n",
       "      <td>-1.514478</td>\n",
       "      <td>0.278489</td>\n",
       "      <td>-0.410556</td>\n",
       "    </tr>\n",
       "    <tr>\n",
       "      <th>3</th>\n",
       "      <td>0.073768</td>\n",
       "      <td>0.801337</td>\n",
       "      <td>-2.258763</td>\n",
       "      <td>1.521895</td>\n",
       "      <td>2.898002</td>\n",
       "      <td>-0.256686</td>\n",
       "      <td>-2.629608</td>\n",
       "      <td>2.248622</td>\n",
       "      <td>-1.315410</td>\n",
       "      <td>1.519920</td>\n",
       "      <td>-0.171466</td>\n",
       "      <td>-0.648140</td>\n",
       "      <td>1.566877</td>\n",
       "      <td>0.300167</td>\n",
       "      <td>-0.302480</td>\n",
       "      <td>1.011975</td>\n",
       "    </tr>\n",
       "    <tr>\n",
       "      <th>4</th>\n",
       "      <td>-1.446824</td>\n",
       "      <td>-0.548256</td>\n",
       "      <td>-0.410385</td>\n",
       "      <td>-1.190214</td>\n",
       "      <td>-0.406822</td>\n",
       "      <td>0.337350</td>\n",
       "      <td>-0.424996</td>\n",
       "      <td>-1.329139</td>\n",
       "      <td>-0.832095</td>\n",
       "      <td>0.132865</td>\n",
       "      <td>-0.419699</td>\n",
       "      <td>0.416764</td>\n",
       "      <td>-0.660929</td>\n",
       "      <td>0.429784</td>\n",
       "      <td>-0.883449</td>\n",
       "      <td>-0.346861</td>\n",
       "    </tr>\n",
       "    <tr>\n",
       "      <th>...</th>\n",
       "      <td>...</td>\n",
       "      <td>...</td>\n",
       "      <td>...</td>\n",
       "      <td>...</td>\n",
       "      <td>...</td>\n",
       "      <td>...</td>\n",
       "      <td>...</td>\n",
       "      <td>...</td>\n",
       "      <td>...</td>\n",
       "      <td>...</td>\n",
       "      <td>...</td>\n",
       "      <td>...</td>\n",
       "      <td>...</td>\n",
       "      <td>...</td>\n",
       "      <td>...</td>\n",
       "      <td>...</td>\n",
       "    </tr>\n",
       "    <tr>\n",
       "      <th>90</th>\n",
       "      <td>0.205993</td>\n",
       "      <td>0.051563</td>\n",
       "      <td>-1.519412</td>\n",
       "      <td>0.880851</td>\n",
       "      <td>1.061989</td>\n",
       "      <td>0.040332</td>\n",
       "      <td>-1.635372</td>\n",
       "      <td>0.155510</td>\n",
       "      <td>0.241941</td>\n",
       "      <td>-0.560662</td>\n",
       "      <td>-0.325541</td>\n",
       "      <td>-0.484308</td>\n",
       "      <td>1.272397</td>\n",
       "      <td>1.466725</td>\n",
       "      <td>0.591318</td>\n",
       "      <td>1.946175</td>\n",
       "    </tr>\n",
       "    <tr>\n",
       "      <th>91</th>\n",
       "      <td>0.867120</td>\n",
       "      <td>-0.598241</td>\n",
       "      <td>0.243657</td>\n",
       "      <td>-0.672447</td>\n",
       "      <td>0.419384</td>\n",
       "      <td>-0.226984</td>\n",
       "      <td>-0.814046</td>\n",
       "      <td>0.179849</td>\n",
       "      <td>-0.133972</td>\n",
       "      <td>-0.421957</td>\n",
       "      <td>-0.068748</td>\n",
       "      <td>-0.211256</td>\n",
       "      <td>-0.353646</td>\n",
       "      <td>-0.866391</td>\n",
       "      <td>1.082907</td>\n",
       "      <td>0.884584</td>\n",
       "    </tr>\n",
       "    <tr>\n",
       "      <th>92</th>\n",
       "      <td>0.338219</td>\n",
       "      <td>-0.498271</td>\n",
       "      <td>0.101474</td>\n",
       "      <td>0.856196</td>\n",
       "      <td>0.465284</td>\n",
       "      <td>0.337350</td>\n",
       "      <td>0.309874</td>\n",
       "      <td>-0.404275</td>\n",
       "      <td>0.027134</td>\n",
       "      <td>-0.838073</td>\n",
       "      <td>-0.633693</td>\n",
       "      <td>-0.538919</td>\n",
       "      <td>0.004852</td>\n",
       "      <td>-0.477538</td>\n",
       "      <td>-0.525930</td>\n",
       "      <td>-0.346861</td>\n",
       "    </tr>\n",
       "    <tr>\n",
       "      <th>93</th>\n",
       "      <td>-3.198809</td>\n",
       "      <td>-1.697909</td>\n",
       "      <td>-1.348792</td>\n",
       "      <td>-2.620235</td>\n",
       "      <td>-2.242835</td>\n",
       "      <td>-1.741775</td>\n",
       "      <td>2.557714</td>\n",
       "      <td>-2.911142</td>\n",
       "      <td>-0.778393</td>\n",
       "      <td>0.271571</td>\n",
       "      <td>0.170925</td>\n",
       "      <td>1.700109</td>\n",
       "      <td>-1.928474</td>\n",
       "      <td>-0.996008</td>\n",
       "      <td>-1.419727</td>\n",
       "      <td>-0.622874</td>\n",
       "    </tr>\n",
       "    <tr>\n",
       "      <th>94</th>\n",
       "      <td>-2.256704</td>\n",
       "      <td>-1.198060</td>\n",
       "      <td>-0.410385</td>\n",
       "      <td>-1.831257</td>\n",
       "      <td>-1.646131</td>\n",
       "      <td>-1.028932</td>\n",
       "      <td>1.044745</td>\n",
       "      <td>-1.499509</td>\n",
       "      <td>0.027134</td>\n",
       "      <td>0.548982</td>\n",
       "      <td>0.170925</td>\n",
       "      <td>1.072089</td>\n",
       "      <td>-1.288300</td>\n",
       "      <td>-0.347921</td>\n",
       "      <td>-1.285658</td>\n",
       "      <td>-0.410556</td>\n",
       "    </tr>\n",
       "  </tbody>\n",
       "</table>\n",
       "<p>95 rows × 16 columns</p>\n",
       "</div>"
      ],
      "text/plain": [
       "    EP_POV150  EP_UNEMP  EP_HBURD  EP_NOHSDP  EP_UNINSUR  EP_AGE65  EP_AGE17  \\\n",
       "0   -0.455134 -0.198361  0.272093  -0.992969   -0.544523  0.248244 -0.035947   \n",
       "1   -0.455134 -0.748196  0.926135   0.264463    0.557085 -1.236845  1.866071   \n",
       "2    0.718366  0.651383 -0.751624   0.289119   -1.095327  1.436316 -0.597907   \n",
       "3    0.073768  0.801337 -2.258763   1.521895    2.898002 -0.256686 -2.629608   \n",
       "4   -1.446824 -0.548256 -0.410385  -1.190214   -0.406822  0.337350 -0.424996   \n",
       "..        ...       ...       ...        ...         ...       ...       ...   \n",
       "90   0.205993  0.051563 -1.519412   0.880851    1.061989  0.040332 -1.635372   \n",
       "91   0.867120 -0.598241  0.243657  -0.672447    0.419384 -0.226984 -0.814046   \n",
       "92   0.338219 -0.498271  0.101474   0.856196    0.465284  0.337350  0.309874   \n",
       "93  -3.198809 -1.697909 -1.348792  -2.620235   -2.242835 -1.741775  2.557714   \n",
       "94  -2.256704 -1.198060 -0.410385  -1.831257   -1.646131 -1.028932  1.044745   \n",
       "\n",
       "    EP_DISABL  EP_SNGPNT  EP_LIMENG  EP_MINRTY  EP_MUNIT  EP_MOBILE  EP_CROWD  \\\n",
       "0    0.374557  -0.187674   0.132865  -0.248504  1.454362  -0.494484  0.170549   \n",
       "1   -1.037077   0.778958   2.629564   0.795788 -0.156646  -0.417663  1.725960   \n",
       "2    2.029576  -0.402481  -0.976779  -0.830568 -0.675445   1.605287 -1.514478   \n",
       "3    2.248622  -1.315410   1.519920  -0.171466 -0.648140   1.566877  0.300167   \n",
       "4   -1.329139  -0.832095   0.132865  -0.419699  0.416764  -0.660929  0.429784   \n",
       "..        ...        ...        ...        ...       ...        ...       ...   \n",
       "90   0.155510   0.241941  -0.560662  -0.325541 -0.484308   1.272397  1.466725   \n",
       "91   0.179849  -0.133972  -0.421957  -0.068748 -0.211256  -0.353646 -0.866391   \n",
       "92  -0.404275   0.027134  -0.838073  -0.633693 -0.538919   0.004852 -0.477538   \n",
       "93  -2.911142  -0.778393   0.271571   0.170925  1.700109  -1.928474 -0.996008   \n",
       "94  -1.499509   0.027134   0.548982   0.170925  1.072089  -1.288300 -0.347921   \n",
       "\n",
       "    EP_NOVEH  EP_GROUPQ  \n",
       "0  -0.257790  -0.304397  \n",
       "1  -0.659999  -0.431788  \n",
       "2   0.278489  -0.410556  \n",
       "3  -0.302480   1.011975  \n",
       "4  -0.883449  -0.346861  \n",
       "..       ...        ...  \n",
       "90  0.591318   1.946175  \n",
       "91  1.082907   0.884584  \n",
       "92 -0.525930  -0.346861  \n",
       "93 -1.419727  -0.622874  \n",
       "94 -1.285658  -0.410556  \n",
       "\n",
       "[95 rows x 16 columns]"
      ]
     },
     "execution_count": 13,
     "metadata": {},
     "output_type": "execute_result"
    }
   ],
   "source": [
    "scaled_X"
   ]
  },
  {
   "cell_type": "code",
   "execution_count": 14,
   "metadata": {},
   "outputs": [],
   "source": [
    "#define PCA model as many components\n",
    "pca = PCA(n_components=16)"
   ]
  },
  {
   "cell_type": "code",
   "execution_count": 15,
   "metadata": {},
   "outputs": [],
   "source": [
    "#fit PCA model to data\n",
    "pca_transformed_data = pca.fit_transform(scaled_X)"
   ]
  },
  {
   "cell_type": "code",
   "execution_count": 16,
   "metadata": {},
   "outputs": [
    {
     "data": {
      "image/png": "[encoded data removed]",
      "text/plain": [
       "<Figure size 640x480 with 1 Axes>"
      ]
     },
     "metadata": {},
     "output_type": "display_data"
    }
   ],
   "source": [
    "PC_values = np.arange(pca.n_components_) + 1\n",
    "plt.plot(PC_values, pca.explained_variance_ratio_, 'o-', linewidth=2, color='blue')\n",
    "plt.title('Scree Plot')\n",
    "plt.xlabel('Principal Component')\n",
    "plt.ylabel('Variance Explained')\n",
    "plt.show()"
   ]
  },
  {
   "cell_type": "code",
   "execution_count": 17,
   "metadata": {},
   "outputs": [
    {
     "data": {
      "text/plain": [
       "array([34.46881994, 20.66354723,  9.83009323,  7.54768472,  5.42794091,\n",
       "        4.6053462 ,  3.80283613,  2.7403471 ,  2.21701129,  2.06306825,\n",
       "        1.91711538,  1.3642914 ,  1.17581476,  0.99089215,  0.72740763,\n",
       "        0.45778367])"
      ]
     },
     "execution_count": 17,
     "metadata": {},
     "output_type": "execute_result"
    }
   ],
   "source": [
    "# Check how much variance is explained by each principal components as a percentage\n",
    "pca.explained_variance_ratio_*100"
   ]
  },
  {
   "cell_type": "code",
   "execution_count": 18,
   "metadata": {},
   "outputs": [
    {
     "data": {
      "image/png": "[encoded data removed]",
      "text/plain": [
       "<Figure size 640x480 with 1 Axes>"
      ]
     },
     "metadata": {},
     "output_type": "display_data"
    }
   ],
   "source": [
    "# plot cumulative variance explained\n",
    "plt.plot(PC_values, np.cumsum(pca.explained_variance_ratio_), 'ro-', linewidth=2)\n",
    "plt.title('Cumulative Variance Explained')\n",
    "plt.xlabel('Principal Component')\n",
    "plt.ylabel('Variance Explained')\n",
    "plt.show()"
   ]
  },
  {
   "cell_type": "markdown",
   "metadata": {},
   "source": [
    "##### Now we explore the features using PCA for different number of components"
   ]
  },
  {
   "cell_type": "code",
   "execution_count": 17,
   "metadata": {},
   "outputs": [],
   "source": [
    "scaled_pca2 = PCA(n_components=2).fit(scaled_X)\n",
    "X_std_transformed = scaled_pca2.transform(scaled_X)"
   ]
  },
  {
   "cell_type": "code",
   "execution_count": 18,
   "metadata": {},
   "outputs": [],
   "source": [
    "scaled_pca3 = PCA(n_components=3).fit(scaled_X)\n",
    "X_std_transformed3 = scaled_pca2.transform(scaled_X)"
   ]
  },
  {
   "cell_type": "code",
   "execution_count": 19,
   "metadata": {},
   "outputs": [],
   "source": [
    "first_pca_component = pd.DataFrame(\n",
    "    scaled_pca2.components_[0], index=X.columns, columns=[\"scalled principal component\"]\n",
    ")"
   ]
  },
  {
   "cell_type": "code",
   "execution_count": 21,
   "metadata": {},
   "outputs": [
    {
     "data": {
      "image/png": "[encoded data removed]",
      "text/plain": [
       "<Figure size 600x800 with 1 Axes>"
      ]
     },
     "metadata": {},
     "output_type": "display_data"
    }
   ],
   "source": [
    "first_pca_component.plot.bar(\n",
    "    title=\"Weights of the first principal component\", figsize=(6, 8), color=\"C1\"\n",
    ")\n",
    "\n",
    "_ = plt.tight_layout()"
   ]
  },
  {
   "cell_type": "code",
   "execution_count": null,
   "metadata": {},
   "outputs": [],
   "source": []
  },
  {
   "cell_type": "code",
   "execution_count": null,
   "metadata": {},
   "outputs": [],
   "source": []
  }
 ],
 "metadata": {
  "kernelspec": {
   "display_name": "TDA",
   "language": "python",
   "name": "python3"
  },
  "language_info": {
   "codemirror_mode": {
    "name": "ipython",
    "version": 3
   },
   "file_extension": ".py",
   "mimetype": "text/x-python",
   "name": "python",
   "nbconvert_exporter": "python",
   "pygments_lexer": "ipython3",
   "version": "3.11.4"
  }
 },
 "nbformat": 4,
 "nbformat_minor": 2
}
