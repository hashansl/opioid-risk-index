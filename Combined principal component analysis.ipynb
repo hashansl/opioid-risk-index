{
 "cells": [
  {
   "cell_type": "markdown",
   "metadata": {},
   "source": [
    "### PCA on SVI 2020 data for Multiple regions"
   ]
  },
  {
   "cell_type": "code",
   "execution_count": 15,
   "metadata": {},
   "outputs": [],
   "source": [
    "import pandas as pd\n",
    "import matplotlib.pyplot as plt\n",
    "import geopandas as gpd\n",
    "import numpy as np\n",
    "import itertools\n",
    "from itertools import combinations\n",
    "from scipy import spatial\n",
    "import pickle as pickle\n",
    "import gudhi\n",
    "from pylab import *\n",
    "from mpl_toolkits.mplot3d import Axes3D\n",
    "%matplotlib inline\n",
    "import seaborn as sns\n",
    "from sklearn.datasets import make_regression\n",
    "from sklearn.model_selection import train_test_split\n",
    "from sklearn.feature_selection import SelectKBest\n",
    "from sklearn.feature_selection import f_regression\n",
    "from matplotlib import pyplot\n",
    "import warnings\n",
    "\n",
    "\n",
    "# Ignore FutureWarnings\n",
    "warnings.simplefilter(action='ignore', category=FutureWarning)"
   ]
  },
  {
   "cell_type": "markdown",
   "metadata": {},
   "source": [
    "#### Import the dataset"
   ]
  },
  {
   "cell_type": "code",
   "execution_count": 2,
   "metadata": {},
   "outputs": [],
   "source": [
    "washingtonDcSviRaw = gpd.read_file('./washington dc/data/processed data/SVI2020 WashingtonDC counties with death rate and count cdc/SVI2020_WashingtonDC_counties_with_death_rate_HepVu_count_cdc.shp')"
   ]
  },
  {
   "cell_type": "code",
   "execution_count": 3,
   "metadata": {},
   "outputs": [
    {
     "data": {
      "text/plain": [
       "['ST',\n",
       " 'STATE',\n",
       " 'ST_ABBR',\n",
       " 'STCNTY',\n",
       " 'COUNTY',\n",
       " 'FIPS',\n",
       " 'LOCATION',\n",
       " 'AREA_SQMI',\n",
       " 'E_TOTPOP',\n",
       " 'M_TOTPOP',\n",
       " 'E_HU',\n",
       " 'M_HU',\n",
       " 'E_HH',\n",
       " 'M_HH',\n",
       " 'E_POV150',\n",
       " 'M_POV150',\n",
       " 'E_UNEMP',\n",
       " 'M_UNEMP',\n",
       " 'E_HBURD',\n",
       " 'M_HBURD',\n",
       " 'E_NOHSDP',\n",
       " 'M_NOHSDP',\n",
       " 'E_UNINSUR',\n",
       " 'M_UNINSUR',\n",
       " 'E_AGE65',\n",
       " 'M_AGE65',\n",
       " 'E_AGE17',\n",
       " 'M_AGE17',\n",
       " 'E_DISABL',\n",
       " 'M_DISABL',\n",
       " 'E_SNGPNT',\n",
       " 'M_SNGPNT',\n",
       " 'E_LIMENG',\n",
       " 'M_LIMENG',\n",
       " 'E_MINRTY',\n",
       " 'M_MINRTY',\n",
       " 'E_MUNIT',\n",
       " 'M_MUNIT',\n",
       " 'E_MOBILE',\n",
       " 'M_MOBILE',\n",
       " 'E_CROWD',\n",
       " 'M_CROWD',\n",
       " 'E_NOVEH',\n",
       " 'M_NOVEH',\n",
       " 'E_GROUPQ',\n",
       " 'M_GROUPQ',\n",
       " 'EP_POV150',\n",
       " 'MP_POV150',\n",
       " 'EP_UNEMP',\n",
       " 'MP_UNEMP',\n",
       " 'EP_HBURD',\n",
       " 'MP_HBURD',\n",
       " 'EP_NOHSDP',\n",
       " 'MP_NOHSDP',\n",
       " 'EP_UNINSUR',\n",
       " 'MP_UNINSUR',\n",
       " 'EP_AGE65',\n",
       " 'MP_AGE65',\n",
       " 'EP_AGE17',\n",
       " 'MP_AGE17',\n",
       " 'EP_DISABL',\n",
       " 'MP_DISABL',\n",
       " 'EP_SNGPNT',\n",
       " 'MP_SNGPNT',\n",
       " 'EP_LIMENG',\n",
       " 'MP_LIMENG',\n",
       " 'EP_MINRTY',\n",
       " 'MP_MINRTY',\n",
       " 'EP_MUNIT',\n",
       " 'MP_MUNIT',\n",
       " 'EP_MOBILE',\n",
       " 'MP_MOBILE',\n",
       " 'EP_CROWD',\n",
       " 'MP_CROWD',\n",
       " 'EP_NOVEH',\n",
       " 'MP_NOVEH',\n",
       " 'EP_GROUPQ',\n",
       " 'MP_GROUPQ',\n",
       " 'EPL_POV150',\n",
       " 'EPL_UNEMP',\n",
       " 'EPL_HBURD',\n",
       " 'EPL_NOHSDP',\n",
       " 'EPL_UNINSU',\n",
       " 'SPL_THEME1',\n",
       " 'RPL_THEME1',\n",
       " 'EPL_AGE65',\n",
       " 'EPL_AGE17',\n",
       " 'EPL_DISABL',\n",
       " 'EPL_SNGPNT',\n",
       " 'EPL_LIMENG',\n",
       " 'SPL_THEME2',\n",
       " 'RPL_THEME2',\n",
       " 'EPL_MINRTY',\n",
       " 'SPL_THEME3',\n",
       " 'RPL_THEME3',\n",
       " 'EPL_MUNIT',\n",
       " 'EPL_MOBILE',\n",
       " 'EPL_CROWD',\n",
       " 'EPL_NOVEH',\n",
       " 'EPL_GROUPQ',\n",
       " 'SPL_THEME4',\n",
       " 'RPL_THEME4',\n",
       " 'SPL_THEMES',\n",
       " 'RPL_THEMES',\n",
       " 'F_POV150',\n",
       " 'F_UNEMP',\n",
       " 'F_HBURD',\n",
       " 'F_NOHSDP',\n",
       " 'F_UNINSUR',\n",
       " 'F_THEME1',\n",
       " 'F_AGE65',\n",
       " 'F_AGE17',\n",
       " 'F_DISABL',\n",
       " 'F_SNGPNT',\n",
       " 'F_LIMENG',\n",
       " 'F_THEME2',\n",
       " 'F_MINRTY',\n",
       " 'F_THEME3',\n",
       " 'F_MUNIT',\n",
       " 'F_MOBILE',\n",
       " 'F_CROWD',\n",
       " 'F_NOVEH',\n",
       " 'F_GROUPQ',\n",
       " 'F_THEME4',\n",
       " 'F_TOTAL',\n",
       " 'E_DAYPOP',\n",
       " 'E_NOINT',\n",
       " 'M_NOINT',\n",
       " 'E_AFAM',\n",
       " 'M_AFAM',\n",
       " 'E_HISP',\n",
       " 'M_HISP',\n",
       " 'E_ASIAN',\n",
       " 'M_ASIAN',\n",
       " 'E_AIAN',\n",
       " 'M_AIAN',\n",
       " 'E_NHPI',\n",
       " 'M_NHPI',\n",
       " 'E_TWOMORE',\n",
       " 'M_TWOMORE',\n",
       " 'E_OTHERRAC',\n",
       " 'M_OTHERRAC',\n",
       " 'EP_NOINT',\n",
       " 'MP_NOINT',\n",
       " 'EP_AFAM',\n",
       " 'MP_AFAM',\n",
       " 'EP_HISP',\n",
       " 'MP_HISP',\n",
       " 'EP_ASIAN',\n",
       " 'MP_ASIAN',\n",
       " 'EP_AIAN',\n",
       " 'MP_AIAN',\n",
       " 'EP_NHPI',\n",
       " 'MP_NHPI',\n",
       " 'EP_TWOMORE',\n",
       " 'MP_TWOMORE',\n",
       " 'EP_OTHERRA',\n",
       " 'MP_OTHERRA',\n",
       " 'Shape_Leng',\n",
       " 'Shape_Area',\n",
       " 'Deaths',\n",
       " 'od_deaths_',\n",
       " 'NOD_Rate_2',\n",
       " 'OP_Rate_20',\n",
       " 'geometry']"
      ]
     },
     "execution_count": 3,
     "metadata": {},
     "output_type": "execute_result"
    }
   ],
   "source": [
    "# get column names into a list\n",
    "columnNames = washingtonDcSviRaw.columns.tolist()\n",
    "columnNames"
   ]
  },
  {
   "cell_type": "code",
   "execution_count": null,
   "metadata": {},
   "outputs": [],
   "source": [
    "NOD_Rate_2"
   ]
  },
  {
   "cell_type": "code",
   "execution_count": 3,
   "metadata": {},
   "outputs": [],
   "source": [
    "# reaname od_deaths_ column to deaths_rate\n",
    "#washingtonDcSviRaw = washingtonDcSviRaw.rename(columns={'od_deaths_':'death_rate'})"
   ]
  },
  {
   "cell_type": "code",
   "execution_count": 4,
   "metadata": {},
   "outputs": [],
   "source": [
    "tnSviRaw = gpd.read_file('./tennessee/data/processed data/SVI2020 TN counties with death rate and count cdc/SVI2020_TN_counties_with_death_rate_HepVu_count_cdc.shp')"
   ]
  },
  {
   "cell_type": "code",
   "execution_count": 5,
   "metadata": {},
   "outputs": [],
   "source": [
    "# reaname od_deaths_ column to deaths_rate\n",
    "#tnSviRaw = tnSviRaw.rename(columns={'od_deaths_':'death_rate'})"
   ]
  },
  {
   "cell_type": "code",
   "execution_count": 5,
   "metadata": {},
   "outputs": [],
   "source": [
    "WySviRaw = gpd.read_file('./wyoming/data/processed data/SVI2020 WY counties with death rate HepVu/SVI2020_WY_counties_with_death_rate_HepVu.shp')"
   ]
  },
  {
   "cell_type": "markdown",
   "metadata": {},
   "source": [
    "##### Filtering the raw variables with overdose death rate"
   ]
  },
  {
   "cell_type": "code",
   "execution_count": 6,
   "metadata": {},
   "outputs": [],
   "source": [
    "selectedVariables = ['EP_POV150','EP_UNEMP','EP_HBURD','EP_NOHSDP','EP_UNINSUR','EP_AGE65','EP_AGE17','EP_DISABL','EP_SNGPNT','EP_LIMENG','EP_MINRTY','EP_MUNIT','EP_MOBILE','EP_CROWD','EP_NOVEH','EP_GROUPQ','NOD_Rate_2']"
   ]
  },
  {
   "cell_type": "code",
   "execution_count": 7,
   "metadata": {},
   "outputs": [],
   "source": [
    "selectedVariablesWithoutY = ['EP_POV150','EP_UNEMP','EP_HBURD','EP_NOHSDP','EP_UNINSUR','EP_AGE65','EP_AGE17','EP_DISABL','EP_SNGPNT','EP_LIMENG','EP_MINRTY','EP_MUNIT','EP_MOBILE','EP_CROWD','EP_NOVEH','EP_GROUPQ']"
   ]
  },
  {
   "cell_type": "code",
   "execution_count": 8,
   "metadata": {},
   "outputs": [],
   "source": [
    "# filter metro_svi_deaths dataframe to include only the selected variables and od_deaths_per_1000\n",
    "metroSviMultipleVariablesDf = washingtonDcSviRaw[selectedVariables]"
   ]
  },
  {
   "cell_type": "code",
   "execution_count": 9,
   "metadata": {},
   "outputs": [],
   "source": [
    "# Filtering the data for TN\n",
    "tnSviMultipleVariablesDf = tnSviRaw[selectedVariables]"
   ]
  },
  {
   "cell_type": "code",
   "execution_count": 10,
   "metadata": {},
   "outputs": [],
   "source": [
    "wySviMultipleVariablesDf = WySviRaw[selectedVariablesWithoutY]"
   ]
  },
  {
   "cell_type": "markdown",
   "metadata": {},
   "source": [
    "#### Applying PCA"
   ]
  },
  {
   "cell_type": "code",
   "execution_count": 12,
   "metadata": {},
   "outputs": [],
   "source": [
    "import numpy as np\n",
    "import pandas as pd\n",
    "import matplotlib.pyplot as plt\n",
    "from sklearn.preprocessing import scale \n",
    "from sklearn import model_selection\n",
    "from sklearn.model_selection import RepeatedKFold\n",
    "from sklearn.model_selection import train_test_split\n",
    "from sklearn.decomposition import PCA\n",
    "from sklearn.linear_model import LinearRegression\n",
    "from sklearn.metrics import mean_squared_error\n",
    "from sklearn.preprocessing import StandardScaler\n"
   ]
  },
  {
   "cell_type": "code",
   "execution_count": 11,
   "metadata": {},
   "outputs": [],
   "source": [
    "#define predictor and response variables\n",
    "X_Dc = metroSviMultipleVariablesDf.drop('NOD_Rate_2', axis=1)\n",
    "y_Dc = metroSviMultipleVariablesDf['NOD_Rate_2']"
   ]
  },
  {
   "cell_type": "code",
   "execution_count": 12,
   "metadata": {},
   "outputs": [],
   "source": [
    "#define predictor and response variables\n",
    "X_Tn = tnSviMultipleVariablesDf.drop('NOD_Rate_2', axis=1)\n",
    "y_Tn = tnSviMultipleVariablesDf['NOD_Rate_2']"
   ]
  },
  {
   "cell_type": "code",
   "execution_count": 13,
   "metadata": {},
   "outputs": [],
   "source": [
    "#define predictor and response variables\n",
    "X_Wy = wySviMultipleVariablesDf"
   ]
  },
  {
   "cell_type": "code",
   "execution_count": 17,
   "metadata": {},
   "outputs": [],
   "source": [
    "#define scaler\n",
    "from sklearn.preprocessing import StandardScaler\n",
    "\n",
    "scaler = StandardScaler()"
   ]
  },
  {
   "cell_type": "markdown",
   "metadata": {},
   "source": [
    "The standard score of a sample x is calculated as:\n",
    "\n",
    "z = (x - u) / s\n",
    "\n",
    "where u is the mean of the training samples or zero if with_mean=False, and s is the standard deviation of the training samples or one if with_std=False."
   ]
  },
  {
   "cell_type": "markdown",
   "metadata": {},
   "source": [
    "The fit method is used to compute the mean and standard deviation of the input data, which will be used for later scaling. It is essentially the process of computing the parameters needed for the transformation. \n",
    "\n",
    "When you call fit, the StandardScaler calculates the mean and standard deviation of each feature in the training data. These parameters are stored in the mean_ and scale_ attributes of the scaler object"
   ]
  },
  {
   "cell_type": "markdown",
   "metadata": {},
   "source": [
    "The fit_transform method not only computes the mean and standard deviation but also applies the transformation to the data. It centers and scales the data based on the computed mean and standard deviation.\n",
    "\n",
    "It returns the transformed data, and the original data is not modified. The fit_transform method is often used when you have a training dataset and you want to both compute the scaling parameters and apply the transformation to the data in a single step."
   ]
  },
  {
   "cell_type": "code",
   "execution_count": 18,
   "metadata": {},
   "outputs": [],
   "source": [
    "# scaled_X\n",
    "scaled_X_Dc = pd.DataFrame(scaler.fit_transform(X_Dc), columns=X_Dc.columns)\n",
    "scaled_X_Tn = pd.DataFrame(scaler.fit_transform(X_Tn), columns=X_Tn.columns)\n",
    "scaled_X_Wy = pd.DataFrame(scaler.fit_transform(X_Wy), columns=X_Wy.columns)"
   ]
  },
  {
   "cell_type": "code",
   "execution_count": 20,
   "metadata": {},
   "outputs": [],
   "source": [
    "from sklearn.decomposition import PCA\n",
    "\n",
    "#define PCA model as many components\n",
    "pca_Dc = PCA(n_components=16)\n",
    "\n",
    "#define PCA model as many components\n",
    "pca_Tn = PCA(n_components=16)\n",
    "\n",
    "#define PCA model as many components\n",
    "pca_Wy = PCA(n_components=16)"
   ]
  },
  {
   "cell_type": "code",
   "execution_count": 21,
   "metadata": {},
   "outputs": [],
   "source": [
    "#fit PCA model to data\n",
    "pca_Dc_transformed_data = pca_Dc.fit_transform(scaled_X_Dc)\n",
    "\n",
    "#fit PCA model to data\n",
    "pca_Tn_transformed_data = pca_Tn.fit_transform(scaled_X_Tn)\n",
    "\n",
    "#fit PCA model to data\n",
    "pca_Wy_transformed_data = pca_Wy.fit_transform(scaled_X_Wy)"
   ]
  },
  {
   "cell_type": "code",
   "execution_count": 22,
   "metadata": {},
   "outputs": [
    {
     "data": {
      "image/png": "[encoded data removed]",
      "text/plain": [
       "<Figure size 640x480 with 1 Axes>"
      ]
     },
     "metadata": {},
     "output_type": "display_data"
    }
   ],
   "source": [
    "PC_values = np.arange(pca_Dc.n_components_) + 1\n",
    "plt.plot(PC_values, pca_Dc.explained_variance_ratio_, 'o-', linewidth=2, color='blue')\n",
    "plt.plot(PC_values, pca_Tn.explained_variance_ratio_, 'o-', linewidth=2, color='red')\n",
    "plt.plot(PC_values, pca_Wy.explained_variance_ratio_, 'o-', linewidth=2, color='orange')\n",
    "plt.title('Scree Plot')\n",
    "plt.xlabel('Principal Component')\n",
    "plt.ylabel('Variance Explained')\n",
    "plt.legend(['Dc', 'Tn','Wy'], loc='best')\n",
    "plt.show()"
   ]
  },
  {
   "cell_type": "code",
   "execution_count": null,
   "metadata": {},
   "outputs": [],
   "source": []
  },
  {
   "cell_type": "code",
   "execution_count": 23,
   "metadata": {},
   "outputs": [
    {
     "data": {
      "text/plain": [
       "array([33.36956551, 21.27941578, 18.45883313, 10.60020699,  4.21520456,\n",
       "        3.6306651 ,  2.32276422,  1.594649  ,  1.39665756,  0.8624831 ,\n",
       "        0.77105424,  0.67242316,  0.460247  ,  0.23322652,  0.09539425,\n",
       "        0.03720986])"
      ]
     },
     "execution_count": 23,
     "metadata": {},
     "output_type": "execute_result"
    }
   ],
   "source": [
    "# Check how much variance is explained by each principal components as a percentage\n",
    "pca_Dc.explained_variance_ratio_*100"
   ]
  },
  {
   "cell_type": "code",
   "execution_count": 24,
   "metadata": {},
   "outputs": [
    {
     "data": {
      "text/plain": [
       "array([34.46881994, 20.66354723,  9.83009323,  7.54768472,  5.42794091,\n",
       "        4.6053462 ,  3.80283613,  2.7403471 ,  2.21701129,  2.06306825,\n",
       "        1.91711538,  1.3642914 ,  1.17581476,  0.99089215,  0.72740763,\n",
       "        0.45778367])"
      ]
     },
     "execution_count": 24,
     "metadata": {},
     "output_type": "execute_result"
    }
   ],
   "source": [
    "# Check how much variance is explained by each principal components as a percentage\n",
    "pca_Tn.explained_variance_ratio_*100"
   ]
  },
  {
   "cell_type": "code",
   "execution_count": 25,
   "metadata": {},
   "outputs": [
    {
     "data": {
      "text/plain": [
       "array([21.62084285, 19.5157136 , 15.86654856, 10.37698026,  9.68335773,\n",
       "        6.35140663,  3.77319995,  3.34247883,  2.89885476,  2.15639266,\n",
       "        1.33262178,  1.20214104,  0.88674733,  0.62442758,  0.24492869,\n",
       "        0.12335775])"
      ]
     },
     "execution_count": 25,
     "metadata": {},
     "output_type": "execute_result"
    }
   ],
   "source": [
    "# Check how much variance is explained by each principal components as a percentage\n",
    "pca_Wy.explained_variance_ratio_*100"
   ]
  },
  {
   "cell_type": "code",
   "execution_count": 26,
   "metadata": {},
   "outputs": [
    {
     "data": {
      "image/png": "[encoded data removed]",
      "text/plain": [
       "<Figure size 640x480 with 1 Axes>"
      ]
     },
     "metadata": {},
     "output_type": "display_data"
    }
   ],
   "source": [
    "# plot cumulative variance explained\n",
    "plt.plot(PC_values, np.cumsum(pca_Dc.explained_variance_ratio_), 'bo-', linewidth=2, label='Dc')\n",
    "plt.plot(PC_values, np.cumsum(pca_Tn.explained_variance_ratio_), 'ro-', linewidth=2, label='Tn')\n",
    "plt.plot(PC_values, np.cumsum(pca_Wy.explained_variance_ratio_), 'o-',color='orange', linewidth=2, label='Wy')\n",
    "\n",
    "\n",
    "plt.title('Cumulative Variance Explained')\n",
    "plt.xlabel('Principal Component')\n",
    "plt.ylabel('Variance Explained')\n",
    "plt.legend(loc='lower right')\n",
    "plt.show()"
   ]
  },
  {
   "cell_type": "markdown",
   "metadata": {},
   "source": [
    "##### Now we explore the features using PCA "
   ]
  },
  {
   "cell_type": "code",
   "execution_count": 27,
   "metadata": {},
   "outputs": [],
   "source": [
    "scaled_pca2_Dc = PCA(n_components=2).fit(scaled_X_Dc)\n",
    "X_std_transformed_Dc = scaled_pca2_Dc.transform(scaled_X_Dc)"
   ]
  },
  {
   "cell_type": "code",
   "execution_count": 28,
   "metadata": {},
   "outputs": [],
   "source": [
    "scaled_pca2_Tn = PCA(n_components=3).fit(scaled_X_Tn)\n",
    "X_std_transformed2_Tn = scaled_pca2_Tn.transform(scaled_X_Tn)"
   ]
  },
  {
   "cell_type": "code",
   "execution_count": 29,
   "metadata": {},
   "outputs": [],
   "source": [
    "scaled_pca2_Wy = PCA(n_components=3).fit(scaled_X_Wy)\n",
    "X_std_transformed2_Wy = scaled_pca2_Wy.transform(scaled_X_Wy)"
   ]
  },
  {
   "cell_type": "code",
   "execution_count": 30,
   "metadata": {},
   "outputs": [],
   "source": [
    "first_pca_component = pd.DataFrame(\n",
    "    scaled_pca2_Dc.components_[0], index=X_Dc.columns, columns=[\"DC\"]\n",
    ")"
   ]
  },
  {
   "cell_type": "code",
   "execution_count": 31,
   "metadata": {},
   "outputs": [],
   "source": [
    "first_pca_component[\"TN\"] = scaled_pca2_Tn.components_[0]"
   ]
  },
  {
   "cell_type": "code",
   "execution_count": 32,
   "metadata": {},
   "outputs": [],
   "source": [
    "first_pca_component[\"WY\"] = scaled_pca2_Wy.components_[0]"
   ]
  },
  {
   "cell_type": "code",
   "execution_count": 39,
   "metadata": {},
   "outputs": [
    {
     "data": {
      "image/png": "[encoded data removed]",
      "text/plain": [
       "<Figure size 1000x800 with 1 Axes>"
      ]
     },
     "metadata": {},
     "output_type": "display_data"
    }
   ],
   "source": [
    "first_pca_component.plot.bar(\n",
    "    title=\"Weights of the first principal component\", figsize=(10, 8), color=[\"blue\", \"red\", \"orange\"]\n",
    ")\n",
    "\n",
    "_ = plt.tight_layout()"
   ]
  },
  {
   "cell_type": "code",
   "execution_count": 33,
   "metadata": {},
   "outputs": [
    {
     "data": {
      "text/html": [
       "<div>\n",
       "<style scoped>\n",
       "    .dataframe tbody tr th:only-of-type {\n",
       "        vertical-align: middle;\n",
       "    }\n",
       "\n",
       "    .dataframe tbody tr th {\n",
       "        vertical-align: top;\n",
       "    }\n",
       "\n",
       "    .dataframe thead th {\n",
       "        text-align: right;\n",
       "    }\n",
       "</style>\n",
       "<table border=\"1\" class=\"dataframe\">\n",
       "  <thead>\n",
       "    <tr style=\"text-align: right;\">\n",
       "      <th></th>\n",
       "      <th>DC</th>\n",
       "      <th>TN</th>\n",
       "      <th>WY</th>\n",
       "    </tr>\n",
       "  </thead>\n",
       "  <tbody>\n",
       "    <tr>\n",
       "      <th>EP_POV150</th>\n",
       "      <td>0.168897</td>\n",
       "      <td>-0.277244</td>\n",
       "      <td>0.110070</td>\n",
       "    </tr>\n",
       "    <tr>\n",
       "      <th>EP_UNEMP</th>\n",
       "      <td>0.091613</td>\n",
       "      <td>-0.186634</td>\n",
       "      <td>-0.152721</td>\n",
       "    </tr>\n",
       "    <tr>\n",
       "      <th>EP_HBURD</th>\n",
       "      <td>0.341551</td>\n",
       "      <td>0.259116</td>\n",
       "      <td>0.461934</td>\n",
       "    </tr>\n",
       "    <tr>\n",
       "      <th>EP_NOHSDP</th>\n",
       "      <td>0.251936</td>\n",
       "      <td>-0.334719</td>\n",
       "      <td>-0.261362</td>\n",
       "    </tr>\n",
       "    <tr>\n",
       "      <th>EP_UNINSUR</th>\n",
       "      <td>0.235700</td>\n",
       "      <td>-0.122147</td>\n",
       "      <td>-0.208231</td>\n",
       "    </tr>\n",
       "    <tr>\n",
       "      <th>EP_AGE65</th>\n",
       "      <td>-0.282229</td>\n",
       "      <td>-0.298856</td>\n",
       "      <td>-0.169256</td>\n",
       "    </tr>\n",
       "    <tr>\n",
       "      <th>EP_AGE17</th>\n",
       "      <td>0.080893</td>\n",
       "      <td>0.254534</td>\n",
       "      <td>-0.333134</td>\n",
       "    </tr>\n",
       "    <tr>\n",
       "      <th>EP_DISABL</th>\n",
       "      <td>-0.164876</td>\n",
       "      <td>-0.353118</td>\n",
       "      <td>-0.323425</td>\n",
       "    </tr>\n",
       "    <tr>\n",
       "      <th>EP_SNGPNT</th>\n",
       "      <td>0.297330</td>\n",
       "      <td>0.172572</td>\n",
       "      <td>0.006747</td>\n",
       "    </tr>\n",
       "    <tr>\n",
       "      <th>EP_LIMENG</th>\n",
       "      <td>0.374048</td>\n",
       "      <td>0.261031</td>\n",
       "      <td>0.104290</td>\n",
       "    </tr>\n",
       "    <tr>\n",
       "      <th>EP_MINRTY</th>\n",
       "      <td>0.364387</td>\n",
       "      <td>0.261314</td>\n",
       "      <td>0.120571</td>\n",
       "    </tr>\n",
       "    <tr>\n",
       "      <th>EP_MUNIT</th>\n",
       "      <td>0.225458</td>\n",
       "      <td>0.315215</td>\n",
       "      <td>0.333634</td>\n",
       "    </tr>\n",
       "    <tr>\n",
       "      <th>EP_MOBILE</th>\n",
       "      <td>-0.168003</td>\n",
       "      <td>-0.357516</td>\n",
       "      <td>-0.327275</td>\n",
       "    </tr>\n",
       "    <tr>\n",
       "      <th>EP_CROWD</th>\n",
       "      <td>0.385813</td>\n",
       "      <td>0.035465</td>\n",
       "      <td>-0.018119</td>\n",
       "    </tr>\n",
       "    <tr>\n",
       "      <th>EP_NOVEH</th>\n",
       "      <td>0.144508</td>\n",
       "      <td>-0.116148</td>\n",
       "      <td>0.285997</td>\n",
       "    </tr>\n",
       "    <tr>\n",
       "      <th>EP_GROUPQ</th>\n",
       "      <td>0.064273</td>\n",
       "      <td>-0.085324</td>\n",
       "      <td>0.263201</td>\n",
       "    </tr>\n",
       "  </tbody>\n",
       "</table>\n",
       "</div>"
      ],
      "text/plain": [
       "                  DC        TN        WY\n",
       "EP_POV150   0.168897 -0.277244  0.110070\n",
       "EP_UNEMP    0.091613 -0.186634 -0.152721\n",
       "EP_HBURD    0.341551  0.259116  0.461934\n",
       "EP_NOHSDP   0.251936 -0.334719 -0.261362\n",
       "EP_UNINSUR  0.235700 -0.122147 -0.208231\n",
       "EP_AGE65   -0.282229 -0.298856 -0.169256\n",
       "EP_AGE17    0.080893  0.254534 -0.333134\n",
       "EP_DISABL  -0.164876 -0.353118 -0.323425\n",
       "EP_SNGPNT   0.297330  0.172572  0.006747\n",
       "EP_LIMENG   0.374048  0.261031  0.104290\n",
       "EP_MINRTY   0.364387  0.261314  0.120571\n",
       "EP_MUNIT    0.225458  0.315215  0.333634\n",
       "EP_MOBILE  -0.168003 -0.357516 -0.327275\n",
       "EP_CROWD    0.385813  0.035465 -0.018119\n",
       "EP_NOVEH    0.144508 -0.116148  0.285997\n",
       "EP_GROUPQ   0.064273 -0.085324  0.263201"
      ]
     },
     "execution_count": 33,
     "metadata": {},
     "output_type": "execute_result"
    }
   ],
   "source": [
    "first_pca_component"
   ]
  },
  {
   "cell_type": "code",
   "execution_count": 34,
   "metadata": {},
   "outputs": [
    {
     "name": "stdout",
     "output_type": "stream",
     "text": [
      "Top 5 indices for each column (ignoring negatives):\n",
      "{'DC': ['EP_CROWD', 'EP_LIMENG', 'EP_MINRTY', 'EP_HBURD', 'EP_SNGPNT'], 'TN': ['EP_MOBILE', 'EP_DISABL', 'EP_NOHSDP', 'EP_MUNIT', 'EP_AGE65'], 'WY': ['EP_HBURD', 'EP_MUNIT', 'EP_AGE17', 'EP_MOBILE', 'EP_DISABL']}\n"
     ]
    }
   ],
   "source": [
    "# Initialize a dictionary to store the indices of the top 5 absolute values for each column\n",
    "top_indices = {}\n",
    "\n",
    "# Iterate over each column in the DataFrame\n",
    "for col in first_pca_component.columns:\n",
    "    # Sort the absolute values of the column and get the indices of the top 5 values\n",
    "    top_indices[col] = first_pca_component[col].abs().nlargest(5).index.tolist()\n",
    "\n",
    "print(\"Top 5 indices for each column (ignoring negatives):\")\n",
    "print(top_indices)"
   ]
  },
  {
   "cell_type": "code",
   "execution_count": null,
   "metadata": {},
   "outputs": [],
   "source": []
  }
 ],
 "metadata": {
  "kernelspec": {
   "display_name": "TDA",
   "language": "python",
   "name": "python3"
  },
  "language_info": {
   "codemirror_mode": {
    "name": "ipython",
    "version": 3
   },
   "file_extension": ".py",
   "mimetype": "text/x-python",
   "name": "python",
   "nbconvert_exporter": "python",
   "pygments_lexer": "ipython3",
   "version": "3.11.4"
  }
 },
 "nbformat": 4,
 "nbformat_minor": 2
}
