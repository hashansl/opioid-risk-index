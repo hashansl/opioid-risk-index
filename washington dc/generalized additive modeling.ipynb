{
 "cells": [
  {
   "cell_type": "markdown",
   "metadata": {},
   "source": [
    "### Generalized additive model"
   ]
  },
  {
   "cell_type": "code",
   "execution_count": 32,
   "metadata": {},
   "outputs": [],
   "source": [
    "import pandas as pd\n",
    "import matplotlib.pyplot as plt\n",
    "import geopandas as gpd\n",
    "import numpy as np\n",
    "import itertools\n",
    "from itertools import combinations\n",
    "from scipy import spatial\n",
    "import pickle as pickle\n",
    "import gudhi\n",
    "from pylab import *\n",
    "from mpl_toolkits.mplot3d import Axes3D\n",
    "%matplotlib inline\n",
    "import seaborn as sns\n",
    "from sklearn.datasets import make_regression\n",
    "from sklearn.model_selection import train_test_split\n",
    "from sklearn.feature_selection import SelectKBest\n",
    "from sklearn.feature_selection import f_regression\n",
    "from matplotlib import pyplot\n",
    "import warnings\n",
    "\n",
    "# Ignore FutureWarnings\n",
    "warnings.simplefilter(action='ignore', category=FutureWarning)"
   ]
  },
  {
   "cell_type": "markdown",
   "metadata": {},
   "source": [
    "#### Import the dataset"
   ]
  },
  {
   "cell_type": "code",
   "execution_count": 33,
   "metadata": {},
   "outputs": [],
   "source": [
    "washingtonDcSviRaw = gpd.read_file('./data/processed data/SVI2020 WashingtonDC counties with death rate/SVI2020_WashingtonDC_counties_with_death_rate.shp')"
   ]
  },
  {
   "cell_type": "code",
   "execution_count": 34,
   "metadata": {},
   "outputs": [],
   "source": [
    "# reaname od_deaths_ column to deaths_rate\n",
    "washingtonDcSviRaw = washingtonDcSviRaw.rename(columns={'od_deaths_':'death_rate'})"
   ]
  },
  {
   "cell_type": "markdown",
   "metadata": {},
   "source": [
    "##### Filtering the raw variables with overdose death rate"
   ]
  },
  {
   "cell_type": "code",
   "execution_count": 35,
   "metadata": {},
   "outputs": [],
   "source": [
    "selectedVariables = ['EP_POV150','EP_UNEMP','EP_HBURD','EP_NOHSDP','EP_UNINSUR','EP_AGE65','EP_AGE17','EP_DISABL','EP_SNGPNT','EP_LIMENG','EP_MINRTY','EP_MUNIT','EP_MOBILE','EP_CROWD','EP_NOVEH','EP_GROUPQ','death_rate']"
   ]
  },
  {
   "cell_type": "code",
   "execution_count": 36,
   "metadata": {},
   "outputs": [],
   "source": [
    "selectedVariablesWithoutY = ['EP_POV150','EP_UNEMP','EP_HBURD','EP_NOHSDP','EP_UNINSUR','EP_AGE65','EP_AGE17','EP_DISABL','EP_SNGPNT','EP_LIMENG','EP_MINRTY','EP_MUNIT','EP_MOBILE','EP_CROWD','EP_NOVEH','EP_GROUPQ']"
   ]
  },
  {
   "cell_type": "code",
   "execution_count": 37,
   "metadata": {},
   "outputs": [],
   "source": [
    "# filter metro_svi_deaths dataframe to include only the selected variables and od_deaths_per_1000\n",
    "metroSviMultipleVariablesDf = washingtonDcSviRaw[selectedVariables]"
   ]
  },
  {
   "cell_type": "code",
   "execution_count": 38,
   "metadata": {},
   "outputs": [
    {
     "data": {
      "text/html": [
       "<div>\n",
       "<style scoped>\n",
       "    .dataframe tbody tr th:only-of-type {\n",
       "        vertical-align: middle;\n",
       "    }\n",
       "\n",
       "    .dataframe tbody tr th {\n",
       "        vertical-align: top;\n",
       "    }\n",
       "\n",
       "    .dataframe thead th {\n",
       "        text-align: right;\n",
       "    }\n",
       "</style>\n",
       "<table border=\"1\" class=\"dataframe\">\n",
       "  <thead>\n",
       "    <tr style=\"text-align: right;\">\n",
       "      <th></th>\n",
       "      <th>EP_POV150</th>\n",
       "      <th>EP_UNEMP</th>\n",
       "      <th>EP_HBURD</th>\n",
       "      <th>EP_NOHSDP</th>\n",
       "      <th>EP_UNINSUR</th>\n",
       "      <th>EP_AGE65</th>\n",
       "      <th>EP_AGE17</th>\n",
       "      <th>EP_DISABL</th>\n",
       "      <th>EP_SNGPNT</th>\n",
       "      <th>EP_LIMENG</th>\n",
       "      <th>EP_MINRTY</th>\n",
       "      <th>EP_MUNIT</th>\n",
       "      <th>EP_MOBILE</th>\n",
       "      <th>EP_CROWD</th>\n",
       "      <th>EP_NOVEH</th>\n",
       "      <th>EP_GROUPQ</th>\n",
       "      <th>death_rate</th>\n",
       "    </tr>\n",
       "  </thead>\n",
       "  <tbody>\n",
       "    <tr>\n",
       "      <th>0</th>\n",
       "      <td>21.3</td>\n",
       "      <td>7.1</td>\n",
       "      <td>27.2</td>\n",
       "      <td>8.1</td>\n",
       "      <td>3.7</td>\n",
       "      <td>12.2</td>\n",
       "      <td>18.0</td>\n",
       "      <td>11.4</td>\n",
       "      <td>6.9</td>\n",
       "      <td>2.4</td>\n",
       "      <td>63.3</td>\n",
       "      <td>46.8</td>\n",
       "      <td>0.1</td>\n",
       "      <td>3.6</td>\n",
       "      <td>35.4</td>\n",
       "      <td>5.6</td>\n",
       "      <td>0.615407</td>\n",
       "    </tr>\n",
       "    <tr>\n",
       "      <th>1</th>\n",
       "      <td>8.0</td>\n",
       "      <td>3.8</td>\n",
       "      <td>19.0</td>\n",
       "      <td>5.7</td>\n",
       "      <td>3.3</td>\n",
       "      <td>14.9</td>\n",
       "      <td>23.2</td>\n",
       "      <td>9.9</td>\n",
       "      <td>4.6</td>\n",
       "      <td>0.3</td>\n",
       "      <td>22.4</td>\n",
       "      <td>3.7</td>\n",
       "      <td>0.9</td>\n",
       "      <td>0.5</td>\n",
       "      <td>2.8</td>\n",
       "      <td>0.6</td>\n",
       "      <td>0.358330</td>\n",
       "    </tr>\n",
       "    <tr>\n",
       "      <th>2</th>\n",
       "      <td>10.9</td>\n",
       "      <td>4.4</td>\n",
       "      <td>21.8</td>\n",
       "      <td>6.4</td>\n",
       "      <td>4.2</td>\n",
       "      <td>12.5</td>\n",
       "      <td>24.0</td>\n",
       "      <td>9.9</td>\n",
       "      <td>8.2</td>\n",
       "      <td>1.0</td>\n",
       "      <td>61.7</td>\n",
       "      <td>5.8</td>\n",
       "      <td>0.9</td>\n",
       "      <td>1.8</td>\n",
       "      <td>3.2</td>\n",
       "      <td>1.3</td>\n",
       "      <td>0.371637</td>\n",
       "    </tr>\n",
       "  </tbody>\n",
       "</table>\n",
       "</div>"
      ],
      "text/plain": [
       "   EP_POV150  EP_UNEMP  EP_HBURD  EP_NOHSDP  EP_UNINSUR  EP_AGE65  EP_AGE17  \\\n",
       "0       21.3       7.1      27.2        8.1         3.7      12.2      18.0   \n",
       "1        8.0       3.8      19.0        5.7         3.3      14.9      23.2   \n",
       "2       10.9       4.4      21.8        6.4         4.2      12.5      24.0   \n",
       "\n",
       "   EP_DISABL  EP_SNGPNT  EP_LIMENG  EP_MINRTY  EP_MUNIT  EP_MOBILE  EP_CROWD  \\\n",
       "0       11.4        6.9        2.4       63.3      46.8        0.1       3.6   \n",
       "1        9.9        4.6        0.3       22.4       3.7        0.9       0.5   \n",
       "2        9.9        8.2        1.0       61.7       5.8        0.9       1.8   \n",
       "\n",
       "   EP_NOVEH  EP_GROUPQ  death_rate  \n",
       "0      35.4        5.6    0.615407  \n",
       "1       2.8        0.6    0.358330  \n",
       "2       3.2        1.3    0.371637  "
      ]
     },
     "execution_count": 38,
     "metadata": {},
     "output_type": "execute_result"
    }
   ],
   "source": [
    "metroSviMultipleVariablesDf.head(3)"
   ]
  },
  {
   "cell_type": "code",
   "execution_count": 39,
   "metadata": {},
   "outputs": [],
   "source": [
    "#define predictor and response variables\n",
    "X = metroSviMultipleVariablesDf.drop('death_rate', axis=1)\n",
    "y = metroSviMultipleVariablesDf['death_rate']"
   ]
  },
  {
   "cell_type": "code",
   "execution_count": 40,
   "metadata": {},
   "outputs": [
    {
     "data": {
      "text/plain": [
       "pandas.core.frame.DataFrame"
      ]
     },
     "execution_count": 40,
     "metadata": {},
     "output_type": "execute_result"
    }
   ],
   "source": [
    "type(X)"
   ]
  },
  {
   "cell_type": "code",
   "execution_count": 41,
   "metadata": {},
   "outputs": [],
   "source": [
    "from pygam import LinearGAM"
   ]
  },
  {
   "cell_type": "code",
   "execution_count": 42,
   "metadata": {},
   "outputs": [
    {
     "name": "stderr",
     "output_type": "stream",
     "text": [
      "  0% (0 of 11) |                         | Elapsed Time: 0:00:00 ETA:  --:--:--\n",
      "  9% (1 of 11) |##                       | Elapsed Time: 0:00:00 ETA:   0:00:04\n",
      " 18% (2 of 11) |####                     | Elapsed Time: 0:00:00 ETA:   0:00:04\n",
      " 27% (3 of 11) |######                   | Elapsed Time: 0:00:00 ETA:   0:00:01\n",
      " 36% (4 of 11) |#########                | Elapsed Time: 0:00:00 ETA:   0:00:01\n",
      " 45% (5 of 11) |###########              | Elapsed Time: 0:00:00 ETA:   0:00:00\n",
      " 54% (6 of 11) |#############            | Elapsed Time: 0:00:00 ETA:   0:00:00\n",
      " 63% (7 of 11) |###############          | Elapsed Time: 0:00:00 ETA:   0:00:00\n",
      " 72% (8 of 11) |##################       | Elapsed Time: 0:00:00 ETA:   0:00:00\n",
      " 81% (9 of 11) |####################     | Elapsed Time: 0:00:01 ETA:   0:00:00\n",
      " 90% (10 of 11) |#####################   | Elapsed Time: 0:00:01 ETA:   0:00:00\n",
      "100% (11 of 11) |########################| Elapsed Time: 0:00:01 Time:  0:00:01\n"
     ]
    }
   ],
   "source": [
    "gam = LinearGAM(n_splines=10).gridsearch(X.values, y.values)"
   ]
  },
  {
   "cell_type": "code",
   "execution_count": 43,
   "metadata": {},
   "outputs": [
    {
     "name": "stdout",
     "output_type": "stream",
     "text": [
      "LinearGAM                                                                                                 \n",
      "=============================================== ==========================================================\n",
      "Distribution:                        NormalDist Effective DoF:                                     24.9481\n",
      "Link Function:                     IdentityLink Log Likelihood:                                  -378.0957\n",
      "Number of Samples:                           25 AIC:                                              808.0877\n",
      "                                                AICc:                                              90.2126\n",
      "                                                GCV:                                                   0.0\n",
      "                                                Scale:                                                 0.0\n",
      "                                                Pseudo R-Squared:                                      1.0\n",
      "==========================================================================================================\n",
      "Feature Function                  Lambda               Rank         EDoF         P > x        Sig. Code   \n",
      "================================= ==================== ============ ============ ============ ============\n",
      "s(0)                              [0.001]              10                        7.45e-01                 \n",
      "s(1)                              [0.001]              10                        7.11e-01                 \n",
      "s(2)                              [0.001]              10                        6.48e-01                 \n",
      "s(3)                              [0.001]              10                        5.96e-01                 \n",
      "s(4)                              [0.001]              10                        7.25e-01                 \n",
      "s(5)                              [0.001]              10                        6.19e-01                 \n",
      "s(6)                              [0.001]              10                        7.69e-01                 \n",
      "s(7)                              [0.001]              10                        7.66e-01                 \n",
      "s(8)                              [0.001]              10                        7.39e-01                 \n",
      "s(9)                              [0.001]              10                        6.26e-01                 \n",
      "s(10)                             [0.001]              10                        6.01e-01                 \n",
      "s(11)                             [0.001]              10                        7.66e-01                 \n",
      "s(12)                             [0.001]              10                        6.22e-01                 \n",
      "s(13)                             [0.001]              10                        5.98e-01                 \n",
      "s(14)                             [0.001]              10                        4.49e-01                 \n",
      "s(15)                             [0.001]              10                        6.16e-01                 \n",
      "intercept                                              1                         6.92e-01                 \n",
      "==========================================================================================================\n",
      "Significance codes:  0 '***' 0.001 '**' 0.01 '*' 0.05 '.' 0.1 ' ' 1\n",
      "\n",
      "WARNING: Fitting splines and a linear function to a feature introduces a model identifiability problem\n",
      "         which can cause p-values to appear significant when they are not.\n",
      "\n",
      "WARNING: p-values calculated in this manner behave correctly for un-penalized models or models with\n",
      "         known smoothing parameters, but when smoothing parameters have been estimated, the p-values\n",
      "         are typically lower than they should be, meaning that the tests reject the null too readily.\n"
     ]
    },
    {
     "name": "stderr",
     "output_type": "stream",
     "text": [
      "/var/folders/j3/904q7dbj02j_jyjz7pvfgz384d40kw/T/ipykernel_93484/3358381670.py:1: UserWarning: KNOWN BUG: p-values computed in this summary are likely much smaller than they should be. \n",
      " \n",
      "Please do not make inferences based on these values! \n",
      "\n",
      "Collaborate on a solution, and stay up to date at: \n",
      "github.com/dswah/pyGAM/issues/163 \n",
      "\n",
      "  gam.summary()\n"
     ]
    }
   ],
   "source": [
    "gam.summary()"
   ]
  },
  {
   "cell_type": "code",
   "execution_count": 50,
   "metadata": {},
   "outputs": [
    {
     "ename": "TypeError",
     "evalue": "GAM.partial_dependence() got an unexpected keyword argument 'feature'",
     "output_type": "error",
     "traceback": [
      "\u001b[0;31m---------------------------------------------------------------------------\u001b[0m",
      "\u001b[0;31mTypeError\u001b[0m                                 Traceback (most recent call last)",
      "\u001b[1;32m/Users/h6x/ORNL/git/opioid-risk-index/washington dc/generalized additive modeling.ipynb Cell 16\u001b[0m line \u001b[0;36m6\n\u001b[1;32m      <a href='vscode-notebook-cell:/Users/h6x/ORNL/git/opioid-risk-index/washington%20dc/generalized%20additive%20modeling.ipynb#X31sZmlsZQ%3D%3D?line=3'>4</a>\u001b[0m titles \u001b[39m=\u001b[39m X\u001b[39m.\u001b[39mcolumns\u001b[39m.\u001b[39mvalues\n\u001b[1;32m      <a href='vscode-notebook-cell:/Users/h6x/ORNL/git/opioid-risk-index/washington%20dc/generalized%20additive%20modeling.ipynb#X31sZmlsZQ%3D%3D?line=4'>5</a>\u001b[0m \u001b[39mfor\u001b[39;00m i, ax \u001b[39min\u001b[39;00m \u001b[39menumerate\u001b[39m(axs):\n\u001b[0;32m----> <a href='vscode-notebook-cell:/Users/h6x/ORNL/git/opioid-risk-index/washington%20dc/generalized%20additive%20modeling.ipynb#X31sZmlsZQ%3D%3D?line=5'>6</a>\u001b[0m     pdep, confi \u001b[39m=\u001b[39m gam\u001b[39m.\u001b[39mpartial_dependence(XX, feature\u001b[39m=\u001b[39mi\u001b[39m+\u001b[39m\u001b[39m1\u001b[39m, width\u001b[39m=\u001b[39m\u001b[39m.95\u001b[39m)\n\u001b[1;32m      <a href='vscode-notebook-cell:/Users/h6x/ORNL/git/opioid-risk-index/washington%20dc/generalized%20additive%20modeling.ipynb#X31sZmlsZQ%3D%3D?line=6'>7</a>\u001b[0m     ax\u001b[39m.\u001b[39mplot(XX[:, i], pdep)\n\u001b[1;32m      <a href='vscode-notebook-cell:/Users/h6x/ORNL/git/opioid-risk-index/washington%20dc/generalized%20additive%20modeling.ipynb#X31sZmlsZQ%3D%3D?line=7'>8</a>\u001b[0m     ax\u001b[39m.\u001b[39mplot(XX[:, i], confi[\u001b[39m0\u001b[39m][:, \u001b[39m0\u001b[39m], c\u001b[39m=\u001b[39m\u001b[39m'\u001b[39m\u001b[39mgrey\u001b[39m\u001b[39m'\u001b[39m, ls\u001b[39m=\u001b[39m\u001b[39m'\u001b[39m\u001b[39m--\u001b[39m\u001b[39m'\u001b[39m)\n",
      "\u001b[0;31mTypeError\u001b[0m: GAM.partial_dependence() got an unexpected keyword argument 'feature'"
     ]
    },
    {
     "data": {
      "image/png": "[encoded data removed]",
      "text/plain": [
       "<Figure size 2800x800 with 6 Axes>"
      ]
     },
     "metadata": {},
     "output_type": "display_data"
    }
   ],
   "source": [
    "XX = gam.generate_X_grid(term=0)\n",
    "plt.rcParams['figure.figsize'] = (28, 8)\n",
    "fig, axs = plt.subplots(1, len(X.columns.values[0:6]))\n",
    "titles = X.columns.values\n",
    "for i, ax in enumerate(axs):\n",
    "    pdep, confi = gam.partial_dependence(XX, feature=i+1, width=.95)\n",
    "    ax.plot(XX[:, i], pdep)\n",
    "    ax.plot(XX[:, i], confi[0][:, 0], c='grey', ls='--')\n",
    "    ax.plot(XX[:, i], confi[0][:, 1], c='grey', ls='--')\n",
    "    ax.set_title(titles[i],fontsize=26)\n",
    "plt.show()"
   ]
  },
  {
   "cell_type": "code",
   "execution_count": 45,
   "metadata": {},
   "outputs": [
    {
     "data": {
      "text/plain": [
       "array(['EP_POV150', 'EP_UNEMP', 'EP_HBURD', 'EP_NOHSDP', 'EP_UNINSUR',\n",
       "       'EP_AGE65', 'EP_AGE17', 'EP_DISABL', 'EP_SNGPNT', 'EP_LIMENG',\n",
       "       'EP_MINRTY', 'EP_MUNIT', 'EP_MOBILE', 'EP_CROWD', 'EP_NOVEH',\n",
       "       'EP_GROUPQ'], dtype=object)"
      ]
     },
     "execution_count": 45,
     "metadata": {},
     "output_type": "execute_result"
    }
   ],
   "source": [
    "X.columns.values"
   ]
  },
  {
   "cell_type": "code",
   "execution_count": null,
   "metadata": {},
   "outputs": [],
   "source": []
  }
 ],
 "metadata": {
  "kernelspec": {
   "display_name": "TDA",
   "language": "python",
   "name": "python3"
  },
  "language_info": {
   "codemirror_mode": {
    "name": "ipython",
    "version": 3
   },
   "file_extension": ".py",
   "mimetype": "text/x-python",
   "name": "python",
   "nbconvert_exporter": "python",
   "pygments_lexer": "ipython3",
   "version": "3.11.4"
  }
 },
 "nbformat": 4,
 "nbformat_minor": 2
}
